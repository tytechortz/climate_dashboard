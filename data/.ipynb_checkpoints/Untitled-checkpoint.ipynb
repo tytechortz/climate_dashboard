{
 "cells": [
  {
   "cell_type": "code",
   "execution_count": 32,
   "metadata": {},
   "outputs": [
    {
     "name": "stdout",
     "output_type": "stream",
     "text": [
      "[{'lable': 1948, 'value': 1948}, {'lable': 1949, 'value': 1949}, {'lable': 1950, 'value': 1950}, {'lable': 1951, 'value': 1951}, {'lable': 1952, 'value': 1952}, {'lable': 1953, 'value': 1953}, {'lable': 1954, 'value': 1954}, {'lable': 1955, 'value': 1955}, {'lable': 1956, 'value': 1956}, {'lable': 1957, 'value': 1957}, {'lable': 1958, 'value': 1958}, {'lable': 1959, 'value': 1959}, {'lable': 1960, 'value': 1960}, {'lable': 1961, 'value': 1961}, {'lable': 1962, 'value': 1962}, {'lable': 1963, 'value': 1963}, {'lable': 1964, 'value': 1964}, {'lable': 1965, 'value': 1965}, {'lable': 1966, 'value': 1966}, {'lable': 1967, 'value': 1967}, {'lable': 1968, 'value': 1968}, {'lable': 1969, 'value': 1969}, {'lable': 1970, 'value': 1970}, {'lable': 1971, 'value': 1971}, {'lable': 1972, 'value': 1972}, {'lable': 1973, 'value': 1973}, {'lable': 1974, 'value': 1974}, {'lable': 1975, 'value': 1975}, {'lable': 1976, 'value': 1976}, {'lable': 1977, 'value': 1977}, {'lable': 1978, 'value': 1978}, {'lable': 1979, 'value': 1979}, {'lable': 1980, 'value': 1980}, {'lable': 1981, 'value': 1981}, {'lable': 1982, 'value': 1982}, {'lable': 1983, 'value': 1983}, {'lable': 1984, 'value': 1984}, {'lable': 1985, 'value': 1985}, {'lable': 1986, 'value': 1986}, {'lable': 1987, 'value': 1987}, {'lable': 1988, 'value': 1988}, {'lable': 1989, 'value': 1989}, {'lable': 1990, 'value': 1990}, {'lable': 1991, 'value': 1991}, {'lable': 1992, 'value': 1992}, {'lable': 1993, 'value': 1993}, {'lable': 1994, 'value': 1994}, {'lable': 1995, 'value': 1995}, {'lable': 1996, 'value': 1996}, {'lable': 1997, 'value': 1997}, {'lable': 1998, 'value': 1998}, {'lable': 1999, 'value': 1999}, {'lable': 2000, 'value': 2000}, {'lable': 2001, 'value': 2001}, {'lable': 2002, 'value': 2002}, {'lable': 2003, 'value': 2003}, {'lable': 2004, 'value': 2004}, {'lable': 2005, 'value': 2005}, {'lable': 2006, 'value': 2006}, {'lable': 2007, 'value': 2007}, {'lable': 2008, 'value': 2008}, {'lable': 2009, 'value': 2009}, {'lable': 2010, 'value': 2010}, {'lable': 2011, 'value': 2011}, {'lable': 2012, 'value': 2012}, {'lable': 2013, 'value': 2013}, {'lable': 2014, 'value': 2014}, {'lable': 2015, 'value': 2015}, {'lable': 2016, 'value': 2016}, {'lable': 2017, 'value': 2017}, {'lable': 2018, 'value': 2018}]\n"
     ]
    },
    {
     "data": {
      "text/html": [
       "<div>\n",
       "<style scoped>\n",
       "    .dataframe tbody tr th:only-of-type {\n",
       "        vertical-align: middle;\n",
       "    }\n",
       "\n",
       "    .dataframe tbody tr th {\n",
       "        vertical-align: top;\n",
       "    }\n",
       "\n",
       "    .dataframe thead th {\n",
       "        text-align: right;\n",
       "    }\n",
       "</style>\n",
       "<table border=\"1\" class=\"dataframe\">\n",
       "  <thead>\n",
       "    <tr style=\"text-align: right;\">\n",
       "      <th></th>\n",
       "      <th>YEAR</th>\n",
       "      <th>MONTH</th>\n",
       "      <th>DAY</th>\n",
       "      <th>TMAX</th>\n",
       "      <th>TMIN</th>\n",
       "      <th>TOT_DAY</th>\n",
       "    </tr>\n",
       "  </thead>\n",
       "  <tbody>\n",
       "    <tr>\n",
       "      <th>count</th>\n",
       "      <td>25861.000000</td>\n",
       "      <td>25861.000000</td>\n",
       "      <td>25861.000000</td>\n",
       "      <td>25860.000000</td>\n",
       "      <td>25853.000000</td>\n",
       "      <td>25861.000000</td>\n",
       "    </tr>\n",
       "    <tr>\n",
       "      <th>mean</th>\n",
       "      <td>1982.913924</td>\n",
       "      <td>6.517536</td>\n",
       "      <td>15.726422</td>\n",
       "      <td>64.632908</td>\n",
       "      <td>36.771129</td>\n",
       "      <td>12931.000000</td>\n",
       "    </tr>\n",
       "    <tr>\n",
       "      <th>std</th>\n",
       "      <td>20.457502</td>\n",
       "      <td>3.447189</td>\n",
       "      <td>8.799422</td>\n",
       "      <td>19.645513</td>\n",
       "      <td>16.847259</td>\n",
       "      <td>7465.571992</td>\n",
       "    </tr>\n",
       "    <tr>\n",
       "      <th>min</th>\n",
       "      <td>1948.000000</td>\n",
       "      <td>1.000000</td>\n",
       "      <td>1.000000</td>\n",
       "      <td>-9.000000</td>\n",
       "      <td>-25.000000</td>\n",
       "      <td>1.000000</td>\n",
       "    </tr>\n",
       "    <tr>\n",
       "      <th>25%</th>\n",
       "      <td>1965.000000</td>\n",
       "      <td>4.000000</td>\n",
       "      <td>8.000000</td>\n",
       "      <td>50.000000</td>\n",
       "      <td>25.000000</td>\n",
       "      <td>6466.000000</td>\n",
       "    </tr>\n",
       "    <tr>\n",
       "      <th>50%</th>\n",
       "      <td>1983.000000</td>\n",
       "      <td>7.000000</td>\n",
       "      <td>16.000000</td>\n",
       "      <td>66.000000</td>\n",
       "      <td>36.000000</td>\n",
       "      <td>12931.000000</td>\n",
       "    </tr>\n",
       "    <tr>\n",
       "      <th>75%</th>\n",
       "      <td>2001.000000</td>\n",
       "      <td>10.000000</td>\n",
       "      <td>23.000000</td>\n",
       "      <td>81.000000</td>\n",
       "      <td>52.000000</td>\n",
       "      <td>19396.000000</td>\n",
       "    </tr>\n",
       "    <tr>\n",
       "      <th>max</th>\n",
       "      <td>2018.000000</td>\n",
       "      <td>12.000000</td>\n",
       "      <td>31.000000</td>\n",
       "      <td>104.000000</td>\n",
       "      <td>72.000000</td>\n",
       "      <td>25861.000000</td>\n",
       "    </tr>\n",
       "  </tbody>\n",
       "</table>\n",
       "</div>"
      ],
      "text/plain": [
       "               YEAR         MONTH           DAY          TMAX          TMIN  \\\n",
       "count  25861.000000  25861.000000  25861.000000  25860.000000  25853.000000   \n",
       "mean    1982.913924      6.517536     15.726422     64.632908     36.771129   \n",
       "std       20.457502      3.447189      8.799422     19.645513     16.847259   \n",
       "min     1948.000000      1.000000      1.000000     -9.000000    -25.000000   \n",
       "25%     1965.000000      4.000000      8.000000     50.000000     25.000000   \n",
       "50%     1983.000000      7.000000     16.000000     66.000000     36.000000   \n",
       "75%     2001.000000     10.000000     23.000000     81.000000     52.000000   \n",
       "max     2018.000000     12.000000     31.000000    104.000000     72.000000   \n",
       "\n",
       "            TOT_DAY  \n",
       "count  25861.000000  \n",
       "mean   12931.000000  \n",
       "std     7465.571992  \n",
       "min        1.000000  \n",
       "25%     6466.000000  \n",
       "50%    12931.000000  \n",
       "75%    19396.000000  \n",
       "max    25861.000000  "
      ]
     },
     "execution_count": 32,
     "metadata": {},
     "output_type": "execute_result"
    }
   ],
   "source": [
    "import pandas as pd\n",
    "df1 = pd.read_csv('//Users/jamesswank/Desktop/Stapleton.csv')\n",
    "df2=pd.read_csv(\"///Users/jamesswank/tempmay17.txt\", header=None)\n",
    "year_options = []\n",
    "for YEAR in df1['YEAR'].unique():\n",
    "    year_options.append({'lable':(YEAR), 'value':YEAR})\n",
    "print(year_options)\n",
    "df1.describe()\n",
    "    \n",
    "\n",
    "\n"
   ]
  },
  {
   "cell_type": "code",
   "execution_count": 44,
   "metadata": {},
   "outputs": [
    {
     "ename": "SyntaxError",
     "evalue": "invalid syntax (<ipython-input-44-04f8df7a7e23>, line 2)",
     "output_type": "error",
     "traceback": [
      "\u001b[0;36m  File \u001b[0;32m\"<ipython-input-44-04f8df7a7e23>\"\u001b[0;36m, line \u001b[0;32m2\u001b[0m\n\u001b[0;31m    print(filtered_df1)\u001b[0m\n\u001b[0m        ^\u001b[0m\n\u001b[0;31mSyntaxError\u001b[0m\u001b[0;31m:\u001b[0m invalid syntax\n"
     ]
    }
   ],
   "source": [
    "filtered_df1 = df1[df1['1948'],\n",
    "print(filtered_df1)"
   ]
  },
  {
   "cell_type": "code",
   "execution_count": null,
   "metadata": {},
   "outputs": [],
   "source": []
  }
 ],
 "metadata": {
  "kernelspec": {
   "display_name": "Python 3",
   "language": "python",
   "name": "python3"
  },
  "language_info": {
   "codemirror_mode": {
    "name": "ipython",
    "version": 3
   },
   "file_extension": ".py",
   "mimetype": "text/x-python",
   "name": "python",
   "nbconvert_exporter": "python",
   "pygments_lexer": "ipython3",
   "version": "3.6.5"
  }
 },
 "nbformat": 4,
 "nbformat_minor": 2
}
